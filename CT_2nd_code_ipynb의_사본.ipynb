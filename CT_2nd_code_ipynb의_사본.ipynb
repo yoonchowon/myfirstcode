{
  "nbformat": 4,
  "nbformat_minor": 0,
  "metadata": {
    "colab": {
      "provenance": [],
      "authorship_tag": "ABX9TyPlR6AUXy+1CLV0uD77wlLk",
      "include_colab_link": true
    },
    "kernelspec": {
      "name": "python3",
      "display_name": "Python 3"
    },
    "language_info": {
      "name": "python"
    }
  },
  "cells": [
    {
      "cell_type": "markdown",
      "metadata": {
        "id": "view-in-github",
        "colab_type": "text"
      },
      "source": [
        "<a href=\"https://colab.research.google.com/github/yoonchowon/myfirstcode/blob/main/CT_2nd_code_ipynb%EC%9D%98_%EC%82%AC%EB%B3%B8.ipynb\" target=\"_parent\"><img src=\"https://colab.research.google.com/assets/colab-badge.svg\" alt=\"Open In Colab\"/></a>"
      ]
    },
    {
      "cell_type": "markdown",
      "source": [
        "2. 사용자로부터 3개의 변수를 입력받아서 합을 구하고, 평균을 구하는 코드\n",
        "  - 변수는: n1,n2,n3,total,average\n"
      ],
      "metadata": {
        "id": "sZLdz_HImWgz"
      }
    },
    {
      "cell_type": "markdown",
      "source": [],
      "metadata": {
        "id": "YMFxqOuonPW7"
      }
    },
    {
      "cell_type": "code",
      "source": [
        "# 사용자로부터 세 개의 정수 값을 입력받아 합계와 평균을 계산하는 코드입니다.\n",
        "n1 = int(input(\"n1의 값을 입력하시오.;\")) # n1의 값을 입력받습니다.\n",
        "n2 = int(input(\"n2의 값을 입력하시오.;\")) # n2의 값을 입력받습니다.\n",
        "n3 = int(input(\"n3의 값을 입력하시오.;\")) # n3의 값을 입력받습니다.\n",
        "total = n1 + n2 + n3                      # 세 개의 입력값을 더하여 합계를 계산합니다.\n",
        "print('합계는 :',total)                   # 합계를 출력합니다.\n",
        "average = total / 3                       #합계를 세 개의 값으로 나누어 평균을 계산합니다.\n",
        "print('평균은 :', average)                # 평균을 출력합니다.\n"
      ],
      "metadata": {
        "colab": {
          "base_uri": "https://localhost:8080/"
        },
        "id": "Q-cKErFenpFW",
        "outputId": "ade165c9-123c-4b8b-b7cf-42668e611c41"
      },
      "execution_count": null,
      "outputs": [
        {
          "output_type": "stream",
          "name": "stdout",
          "text": [
            "n1의 값을 입력하시오.;50\n",
            "n2의 값을 입력하시오.;60\n",
            "n3의 값을 입력하시오.;70\n",
            "합계는 : 180\n",
            "평균은 : 60.0\n"
          ]
        }
      ]
    },
    {
      "cell_type": "markdown",
      "source": [
        "위 코드는 사용자로부터 세 개의 정수 값을 입력받아 합계와 평균을 계산하는 파이썬 코드입니다.\n",
        "\n",
        "각 줄의 주석을 통해 코드의 동작을 설명하겠습니다:\n",
        "\n",
        "n1 = int(input(\"n1의 값을 입력하시오.:\")): 사용자로부터 n1의 값을 입력받아 정수로 변환하여 변수 n1에 저장합니다.\n",
        "n2 = int(input(\"n2의 값을 입력하시오.:\")): 사용자로부터 n2의 값을 입력받아 정수로 변환하여 변수 n2에 저장합니다.\n",
        "n3 = int(input(\"n3의 값을 입력하시오.:\")): 사용자로부터 n3의 값을 입력받아 정수로 변환하여 변수 n3에 저장합니다.\n",
        "total = n1 + n2 + n3: 변수 n1, n2, n3의 값을 더하여 합계를 계산하여 변수 total에 저장합니다.\n",
        "print('합계는:', total): 합계를 출력합니다.\n",
        "average = total / 3: 합계를 세 개의 값으로 나누어 평균을 계산하여 변수 average에 저장합니다.\n",
        "print('평균은:', average): 평균을 출력합니다.\n",
        "위 코드를 실행하면 사용자로부터 세 개의 정수 값을 입력받고, 입력받은 값들의 합계와 평균이 정확히 출력됩니다."
      ],
      "metadata": {
        "id": "tR8apU6c-cXX"
      }
    }
  ]
}