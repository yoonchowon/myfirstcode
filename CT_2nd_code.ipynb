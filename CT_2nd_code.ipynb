{
  "nbformat": 4,
  "nbformat_minor": 0,
  "metadata": {
    "colab": {
      "provenance": [],
      "authorship_tag": "ABX9TyNj/PxTR4HQb8s2Kl1ulBb4",
      "include_colab_link": true
    },
    "kernelspec": {
      "name": "python3",
      "display_name": "Python 3"
    },
    "language_info": {
      "name": "python"
    }
  },
  "cells": [
    {
      "cell_type": "markdown",
      "metadata": {
        "id": "view-in-github",
        "colab_type": "text"
      },
      "source": [
        "<a href=\"https://colab.research.google.com/github/yoonchowon/myfirstcode/blob/main/CT_2nd_code.ipynb\" target=\"_parent\"><img src=\"https://colab.research.google.com/assets/colab-badge.svg\" alt=\"Open In Colab\"/></a>"
      ]
    },
    {
      "cell_type": "markdown",
      "source": [
        "2. 사용자로부터 3개의 변수를 입력받아서 합을 구하고, 평균을 구하는 코드\n",
        "  - 변수는: n1,n2,n3,total,average\n"
      ],
      "metadata": {
        "id": "sZLdz_HImWgz"
      }
    },
    {
      "cell_type": "markdown",
      "source": [],
      "metadata": {
        "id": "YMFxqOuonPW7"
      }
    },
    {
      "cell_type": "code",
      "source": [
        "n1 = int(input(\"n1의 값을 입력하시오.;\"))\n",
        "n2 = int(input(\"n2의 값을 입력하시오.;\"))\n",
        "n3 = int(input(\"n3의 값을 입력하시오.;\"))\n",
        "total = n1 + n2 + n3\n",
        "print('합계는 :',total)\n",
        "average = total / 3\n",
        "print('평균은 :', average)\n"
      ],
      "metadata": {
        "colab": {
          "base_uri": "https://localhost:8080/"
        },
        "id": "Q-cKErFenpFW",
        "outputId": "ade165c9-123c-4b8b-b7cf-42668e611c41"
      },
      "execution_count": 1,
      "outputs": [
        {
          "output_type": "stream",
          "name": "stdout",
          "text": [
            "n1의 값을 입력하시오.;50\n",
            "n2의 값을 입력하시오.;60\n",
            "n3의 값을 입력하시오.;70\n",
            "합계는 : 180\n",
            "평균은 : 60.0\n"
          ]
        }
      ]
    }
  ]
}