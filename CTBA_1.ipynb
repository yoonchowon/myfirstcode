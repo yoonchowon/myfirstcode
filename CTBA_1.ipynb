{
  "nbformat": 4,
  "nbformat_minor": 0,
  "metadata": {
    "colab": {
      "provenance": [],
      "authorship_tag": "ABX9TyM+x0jaCcxHg1aV+NYBDp4W",
      "include_colab_link": true
    },
    "kernelspec": {
      "name": "python3",
      "display_name": "Python 3"
    },
    "language_info": {
      "name": "python"
    }
  },
  "cells": [
    {
      "cell_type": "markdown",
      "metadata": {
        "id": "view-in-github",
        "colab_type": "text"
      },
      "source": [
        "<a href=\"https://colab.research.google.com/github/yoonchowon/myfirstcode/blob/main/CTBA_1.ipynb\" target=\"_parent\"><img src=\"https://colab.research.google.com/assets/colab-badge.svg\" alt=\"Open In Colab\"/></a>"
      ]
    },
    {
      "cell_type": "code",
      "execution_count": null,
      "metadata": {
        "id": "-4h-Q4s3bcjG"
      },
      "outputs": [],
      "source": []
    },
    {
      "cell_type": "markdown",
      "source": [
        "1.쇼핑몰의 배송료를 계산하는 코드 작성\n",
        "- 사용하는 변수 : price, shipping,_cost\n"
      ],
      "metadata": {
        "id": "aIVKKVWbcfr8"
      }
    },
    {
      "cell_type": "code",
      "source": [
        "print(\"상품의 가격을 입력하시오.\")                             # \"상품의 가격을 입력하시오.\"라는 메시지를 출력합니다.\n",
        "price = int(input(\"구입금액 입력: \"))                          # 사용자로부터 구입금액을 입력받아 정수형으로 변환하여 price 변수에 저장합니다.\n",
        "if price > 20000:                                              # 만약 price가 20000보다 크다면:\n",
        "  shipping_cos = 0                                             # 배송비를 0으로 설정합니다.\n",
        "  print(f'구입 금액이 2만원 이상입니다.')                      # \"구입 금액이 2만원 이상입니다.\"라는 메시지를 출력합니다.\n",
        "else:                                                          # 그렇지 않으면 (즉, price가 20000 이하인 경우):\n",
        "  shipping_cos = 3000                                          # 배송비를 3000으로 설정합니다.\n",
        "  print(f'구입금액이 2만원 이하입니다.')                       # \"구입금액이 2만원 이하입니다.\"라는 메시지를 출력합니다.\n",
        "  print(f'회원님의 배송비는 {shipping_cos}원 입니다.')         # \"회원님의 배송비는 {shipping_cost}원 입니다.\"라는 메시지를 출력합니다."
      ],
      "metadata": {
        "colab": {
          "base_uri": "https://localhost:8080/"
        },
        "id": "ESh9oVYPdArG",
        "outputId": "0873ba1e-f9fc-444c-da9f-b97134015678"
      },
      "execution_count": null,
      "outputs": [
        {
          "output_type": "stream",
          "name": "stdout",
          "text": [
            "상품의 가격을 입력하시오.\n",
            "구입금액 입력: 2001\n",
            "구입금액이 2만원 이하입니다.\n",
            "회원님의 배송비는 3000원 입니다.\n"
          ]
        }
      ]
    },
    {
      "cell_type": "markdown",
      "source": [
        "상품의 가격을 입력하시오.\"라는 메시지를 출력합니다.사용자로부터 구입 금액을 입력받아 price 변수에 저장합니다.\n",
        "\n",
        "input() 함수를 사용하여 사용자 입력을 받고, int() 함수를 사용하여 입력값을 정수형으로 변환합니다.\n",
        "\n",
        "\n",
        "if 문을 사용하여 price가 20000보다 큰지 여부를 확인합니다.\n",
        "만약 price가 20000보다 크다면:\n",
        "shipping_cost 변수에 0을 할당합니다.\n",
        "\"구입 금액이 2만원 이상입니다.\"라는 메시지를 출력합니다.\n",
        "\n",
        "그렇지 않으면 (즉, price가 20000 이하인 경우):\n",
        "shipping_cost 변수에 3000을 할당합니다.\n",
        "\"구입금액이 2만원 이하입니다.\"라는 메시지를 출력합니다.\n",
        "\"회원님의 배송비는 {shipping_cost}원 입니다.\"라는 메시지를 출력합니다.\n",
        "\n",
        "위 코드는 상품의 가격을 입력받고, 그에 따라 배송비를 계산하는 간단한 예시입니다. 추가적인 설명이 필요하거나 다른 질문이 있으시면 언제든지 말씀해주세요!\n",
        "\n",
        "\n",
        "\n",
        "\n",
        "\n"
      ],
      "metadata": {
        "id": "cDarPCjdXY9w"
      }
    },
    {
      "cell_type": "markdown",
      "source": [
        "2. 학생으로부터 성적을 입력받아 합격유무를 출력하는 코드\n",
        "- 사용변수:grade"
      ],
      "metadata": {
        "id": "4oDC8u8FgzpL"
      }
    },
    {
      "cell_type": "code",
      "source": [
        "print(\"성적을 입력하시오.\")                # \"성적을 입력하시오.\"라는 메시지를 출력합니다.\n",
        "grade = int(input(\"성적입력: \"))           # 사용자로부터 성적을 입력받아 정수형으로 변환하여 grade 변수에 저장합니다.\n",
        "if grade >= 70:                            # 만약 grade가 70 이상이라면:\n",
        "  print(f'70점 이상이므로 합격입니다.')    # \"70점 이상이므로 합격입니다.\"라는 메시지를 출력합니다.\n",
        "  print(\"축하합니다. 합격입니다.\")         # \"축하합니다. 합격입니다.\"라는 메시지를 출력합니다.\n",
        "  print(f'70점 이하이므로 불합격입니다.')  # 그렇지 않으면 (즉, grade가 70 미만인 경우):\n",
        "  print(\"아쉽군요. 다시 한번 도전하세요.\") # \"아쉽군요. 다시 한번 도전하세요.\"라는 메시지를 출력합니다.\n"
      ],
      "metadata": {
        "colab": {
          "base_uri": "https://localhost:8080/"
        },
        "id": "THvLJu70hOdE",
        "outputId": "79d26fd6-edd8-4437-d9e6-56f6cefbc32a"
      },
      "execution_count": null,
      "outputs": [
        {
          "output_type": "stream",
          "name": "stdout",
          "text": [
            "성적을 입력하시오.\n",
            "성적입력: 60\n",
            "70점 이하이므로 불합격입니다.\n",
            "아쉽군요. 다시 한번 도전하세요.\n"
          ]
        }
      ]
    },
    {
      "cell_type": "markdown",
      "source": [
        "- \"성적을 입력하시오.\"라는 메시지를 출력합니다.\n",
        "\n",
        "- 사용자로부터 성적을 입력받아 grade 변수에 저장합니다.\n",
        "\n",
        "- input() 함수를 사용하여 사용자 입력을 받고, int() 함수를 사용하여 입력값을 정수형으로 변환합니다.\n",
        "\n",
        "- if 문을 사용하여 grade가 70 이상인지 여부를 확인합니다.\n",
        "\n",
        "- 만약 grade가 70 이상이라면:\n",
        "\"70점 이상이므로 합격입니다.\"라는 메시지를 출력합니다.\n",
        "\n",
        "- \"축하합니다. 합격입니다.\"라는 메시지를 출력합니다.\n",
        "\n",
        "- 그렇지 않으면 (즉, grade가 70 미만인 경우):\n",
        "\"70점 이하이므로 불합격입니다.\"라는 메시지를 출력합니다.\n",
        "\n",
        "- \"아쉽군요. 다시 한번 도전하세요.\"라는 메시지를 출력합니다.\n"
      ],
      "metadata": {
        "id": "Vpz-vmBvZer0"
      }
    },
    {
      "cell_type": "markdown",
      "source": [
        "3.근무 시간에 따라 초과근무와 정상근무를 판별하는 코드\n",
        "  - work_hour\n",
        "  - 연산코드 work_hour > 72"
      ],
      "metadata": {
        "id": "x6VpP-oTjZCz"
      }
    },
    {
      "cell_type": "code",
      "source": [
        "print(\"근무시간을 입력하시오.\")            # \"근무시간을 입력하시오.\"라는 메시지를 출력합니다.\n",
        "work_hour = int(input(\"근무시간 입력: \"))  # 사용자로부터 근무시간을 입력받아 정수형으로 변환하여 work_hour 변수에 저장합니다.\n",
        "if work_hour > 72:                         # 만약 work_hour가 72보다 크다면:\n",
        "  print (\"#\"*19)                           # \"#\" 문자를 19번 반복하여 출력합니다.\n",
        "  print(f'# 초과근무 입니다.#')            # \"# 초과근무 입니다.#\"라는 메시지를 출력합니다.\n",
        "  print (\"#\"*19)                           # \"#\" 문자를 19번 반복하여 출력합니다.\n",
        "else:                                      # 그렇지 않으면 (즉, work_hour가 72 이하인 경우):\n",
        "  print (\"#\"*19)                           # \"#\" 문자를 19번 반복하여 출력합니다.\n",
        "  print(f'# 정상근무 입니다.#')            # \"# 정상근무 입니다.#\"라는 메시지를 출력합니다.\n",
        "  print (\"#\"*19)                           # \"#\" 문자를 19번 반복하여 출력합니다.\n"
      ],
      "metadata": {
        "colab": {
          "base_uri": "https://localhost:8080/"
        },
        "id": "6jZVOTVkj3x7",
        "outputId": "b7b4eacf-d081-47bf-c956-d333ff1594db"
      },
      "execution_count": null,
      "outputs": [
        {
          "output_type": "stream",
          "name": "stdout",
          "text": [
            "근무시간을 입력하시오.\n",
            "근무시간 입력: 75\n",
            "###################\n",
            "# 초과근무 입니다.#\n",
            "###################\n"
          ]
        }
      ]
    },
    {
      "cell_type": "markdown",
      "source": [
        "근무시간을 입력하시오.\"라는 메시지를 출력합니다.\n",
        "\n",
        "사용자로부터 근무시간을 입력받아 work_hour 변수에 저장합니다.\n",
        "input() 함수를 사용하여 사용자 입력을 받고, int() 함수를 사용하여 입력값을 정수형으로 변환합니다.\n",
        "\n",
        "\n",
        "- `if` 문을 사용하여 `work_hour`가 72보다 큰지 여부를 확인합니다.\n",
        "- 만약 `work_hour`가 72보다 크다면:\n",
        "  - 문자를 19번 반복하여 출력합니다.\n",
        "  - `'# 초과근무 입니다.#'`라는 메시지를 출력합니다.\n",
        "  -  문자를 19번 반복하여 출력합니다.\n",
        "- 그렇지 않으면 (즉, `work_hour`가 72 이하인 경우):\n",
        "  - 문자를 19번 반복하여 출력합니다.\n",
        "  - `'# 정상근무 입니다.#'`라는 메시지를 출력합니다.\n",
        "  - 문자를 19번 반복하여 출력합니다.\n",
        "\n"
      ],
      "metadata": {
        "id": "wcKTnYPFZ8l_"
      }
    },
    {
      "cell_type": "markdown",
      "source": [
        "4. 짝수와 홀수를 판별하는 코드\n",
        "- 사용변수;_num_\n",
        "- 수식;(x%2)!=0;\n"
      ],
      "metadata": {
        "id": "-5hO_HIml8ny"
      }
    },
    {
      "cell_type": "code",
      "source": [
        "print(\"점수를 입력하시오.\")                   # \"점수를 입력하시오.\"라는 메시지를 출력합니다.\n",
        "_num_ = int(input(\"점수 입력: \"))             # 사용자로부터 점수를 입력받아 정수형으로 변환하여 _num_ 변수에 저장합니다.\n",
        "if (_num_% 2) !=0:                            # 만약 _num_을 2로 나눈 나머지가 0이 아니라면 (즉, 홀수인 경우):\n",
        "  print(f'입력하신 {_num_}은 홀수입니다.')    # f'입력하신 {_num_}은 홀수입니다.'라는 메시지를 출력합니다.\n",
        "else:                                         # 그렇지 않으면 (즉, _num_을 2로 나눈 나머지가 0인 경우, 즉 짝수인 경우):\n",
        "  print(f'입력하신 {_num_}은  짝수입니다.')   # f'입력하신 {_num_}은 짝수입니다.'라는 메시지를 출력합니다."
      ],
      "metadata": {
        "colab": {
          "base_uri": "https://localhost:8080/"
        },
        "id": "0uQ-Bkm9mXyS",
        "outputId": "c3e94487-9b9f-4960-b299-7376c979819a"
      },
      "execution_count": null,
      "outputs": [
        {
          "output_type": "stream",
          "name": "stdout",
          "text": [
            "점수를 입력하시오.\n",
            "점수 입력: 8\n",
            "입력하신 8은  짝수입니다.\n"
          ]
        }
      ]
    },
    {
      "cell_type": "markdown",
      "source": [
        "\n",
        "- \"점수를 입력하시오.\"라는 메시지를 출력합니다.\n",
        "\n",
        "\n",
        "- 사용자로부터 점수를 입력받아 `_num_` 변수에 저장합니다.\n",
        "- `input()` 함수를 사용하여 사용자 입력을 받고, `int()` 함수를 사용하여 입력값을 정수형으로 변환합니다.\n",
        "\n",
        "\n",
        "- `if` 문을 사용하여 `_num_`이 2로 나누어 떨어지지 않는지 확인합니다.\n",
        "- 만약 `_num_`이 홀수라면 (즉, 2로 나누었을 때 나머지가 1인 경우):\n",
        "  - `f'입력하신 {_num_}은 홀수입니다.'`라는 메시지를 출력합니다.\n",
        "- 그렇지 않으면 (즉, `_num_`이 짝수인 경우):\n",
        "  - `f'입력하신 {_num_}은 짝수입니다.'`라는 메시지를 출력합니다.\n"
      ],
      "metadata": {
        "id": "CBS1WJHpaia_"
      }
    },
    {
      "cell_type": "markdown",
      "source": [
        "5. 사용자의 이름과 나이를 물어보고 답변하는 코드\n",
        " - 사용변수:name,age\n",
        " - 출력할 내용:\n",
        " -성명\n",
        " -나이: 20\n",
        " -(1) 20이하:프로그래밍을 배우는 최적의 나이입니다.\n",
        " -(2) 20이상: 아작도 늦지 않았습니다.\n"
      ],
      "metadata": {
        "id": "SRtmjxWWoc7K"
      }
    },
    {
      "cell_type": "code",
      "source": [
        "print(\"당신의 이름과 나이를 입력하시오.\")              # \"당신의 이름과 나이를 입력하시오.\"라는 메시지를 출력합니다.\n",
        "name = input(\"이름:\")                                  # 사용자로부터 이름을 입력받아 name 변수에 저장합니다.\n",
        "age = int(input(\"나이: \"))                             # 사용자로부터 나이를 입력받아 정수형으로 변환하여 age 변수에 저장합니다.\n",
        "if age <= 20:                                          # 만약 age가 20 이하라면:\n",
        "   print(f'프로그래밍을 배우는 최적의 나이입니다.')    # \"프로그래밍을 배우는 최적의 나이입니다.\"라는 메시지를 출력합니다.\n",
        "else:                                                  # 그렇지 않으면 (즉, age가 20 초과인 경우):\n",
        "  print(f'아직도 늦지 않았습니다.')                    # \"아직도 늦지 않았습니다.\"라는 메시지를 출력합니다."
      ],
      "metadata": {
        "colab": {
          "base_uri": "https://localhost:8080/"
        },
        "id": "kwnn20cspWfi",
        "outputId": "e31db7e2-ad64-4d99-a241-e9aac55b0489"
      },
      "execution_count": null,
      "outputs": [
        {
          "output_type": "stream",
          "name": "stdout",
          "text": [
            "당신의 이름과 나이를 입력하시오.\n",
            "이름:윤초원\n",
            "나이: 20\n",
            "프로그래밍을 배우는 최적의 나이입니다.\n"
          ]
        }
      ]
    },
    {
      "cell_type": "markdown",
      "source": [
        "\n",
        "\n",
        "- \"당신의 이름과 나이를 입력하시오.\"라는 메시지를 출력합니다.\n",
        "\n",
        "- 사용자로부터 이름을 입력받아 `name` 변수에 저장합니다.\n",
        "- `input()` 함수를 사용하여 사용자 입력을 받습니다.\n",
        "\n",
        "\n",
        "- 사용자로부터 나이를 입력받아 `age` 변수에 저장합니다.\n",
        "- `input()` 함수를 사용하여 사용자 입력을 받고, `int()` 함수를 사용하여 입력값을 정수형으로 변환합니다.\n",
        "\n",
        "\n",
        "- `if` 문을 사용하여 `age`가 20 이하인지 여부를 확인합니다.\n",
        "- 만약 `age`가 20 이하라면:\n",
        "  - `\"프로그래밍을 배우는 최적의 나이입니다.\"`라는 메시지를 출력합니다.\n",
        "- 그렇지 않으면 (즉, `age`가 20보다 큰 경우):\n",
        "  - `\"아직도 늦지 않았습니다.\"`라는 메시지를 출력합니다.\n",
        "\n"
      ],
      "metadata": {
        "id": "nrAeuiNpa3oJ"
      }
    }
  ]
}