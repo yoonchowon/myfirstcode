{
  "nbformat": 4,
  "nbformat_minor": 0,
  "metadata": {
    "colab": {
      "provenance": [],
      "authorship_tag": "ABX9TyPerSeezAdHQ+8P4Vt1sJI0",
      "include_colab_link": true
    },
    "kernelspec": {
      "name": "python3",
      "display_name": "Python 3"
    },
    "language_info": {
      "name": "python"
    }
  },
  "cells": [
    {
      "cell_type": "markdown",
      "metadata": {
        "id": "view-in-github",
        "colab_type": "text"
      },
      "source": [
        "<a href=\"https://colab.research.google.com/github/yoonchowon/myfirstcode/blob/main/Untitled2.ipynb\" target=\"_parent\"><img src=\"https://colab.research.google.com/assets/colab-badge.svg\" alt=\"Open In Colab\"/></a>"
      ]
    },
    {
      "cell_type": "markdown",
      "source": [
        "4. 사용자로부터 2개의 정수를 받아서 합계를 출력하시오.\n",
        "- 정수 x\n",
        "- 정수 y"
      ],
      "metadata": {
        "id": "yCnYOKHYULLm"
      }
    },
    {
      "cell_type": "code",
      "source": [
        "print(\"정수 2개를 입력하시오.;\")\n",
        "x = int(input(\"x의 값을 입력하시오.;\"))   # 사용자로부터 x의 값을 입력받고 정수로 변환하여 변수 x에 저장합니다.\n",
        "y = int(input(\"y의 값을 입력하시오.;\"))   # 사용자로부터 y의 값을 입력받고 정수로 변환하여 변수 y에 저장합니다.\n",
        "sum = x + y                               # 변수 x와 y를 더한 값을 변수 sum에 저장합니다.\n",
        "print(sum)                                # sum 변수의 값을 출력합니다.\n",
        "print(f'{x}+{y} 의 값은 {sum}이다.')      # f-string을 사용하여 x, y, sum의 값을 포맷하여 출력합니다."
      ],
      "metadata": {
        "colab": {
          "base_uri": "https://localhost:8080/"
        },
        "id": "MU70l3UqUwwN",
        "outputId": "b3d98cd3-c643-4dea-a386-d1906f22eb9f"
      },
      "execution_count": null,
      "outputs": [
        {
          "output_type": "stream",
          "name": "stdout",
          "text": [
            "정수 2개를 입력하시오.;\n",
            "x의 값을 입력하시오.;5\n",
            "y의 값을 입력하시오.;6\n",
            "11\n",
            "5+6 의 값은 11이다.\n"
          ]
        }
      ]
    },
    {
      "cell_type": "markdown",
      "source": [
        "위의 주석을 참고하시면 됩니다. 주어진 코드는 사용자로부터 x와 y의 값을 입력받고, 입력받은 값을 더하여 sum 변수에 저장한 후 결과를 출력합니다. 마지막으로 f-string을 사용하여 x, y, sum의 값을 포맷하여 출력합니다."
      ],
      "metadata": {
        "id": "ZEHvaTwZms_5"
      }
    },
    {
      "cell_type": "markdown",
      "source": [
        "5. 부가세를 계산하시오.\n",
        "- 상품의 가격 (price)\n",
        "- 부가세 (vat)\n"
      ],
      "metadata": {
        "id": "AkVtkEcPWeop"
      }
    },
    {
      "cell_type": "code",
      "source": [
        "print(\"상품의 가격을 입력하시오.:\")\n",
        "price = int (input(\"상품의 가격 :\"))                      # 사용자로부터 상품의 가격을 입력받고 정수로 변환하여 변수 price에 저장합니다.\n",
        "vat = price * 0.1                                         # 가격에 0.1을 곱하여 부가세(vat)를 계산하고 변수 vat에 저장합니다.\n",
        "print(vat)                                                # 부가세(vat)를 출력합니다.\n",
        "print(f'상품의 가격은 {price}이며, 부가세는 {vat}이다.')  # f-string을 사용하여 상품의 가격과 부가세를 포맷하여 출력합니다."
      ],
      "metadata": {
        "colab": {
          "base_uri": "https://localhost:8080/"
        },
        "id": "voz07YSCXKMX",
        "outputId": "c6446551-8be6-41ca-e908-a595cf3d0d4b"
      },
      "execution_count": null,
      "outputs": [
        {
          "output_type": "stream",
          "name": "stdout",
          "text": [
            "상품의 가격을 입력하시오.:\n",
            "상품의 가격 :5000\n",
            "500.0\n",
            "상품의 가격은 5000이며, 부가세는 500.0이다.\n"
          ]
        }
      ]
    },
    {
      "cell_type": "markdown",
      "source": [
        "위의 주석을 참고하시면 됩니다. 주어진 코드는 사용자로부터 상품의 가격을 입력받고, 입력받은 가격에 0.1을 곱하여 부가세를 계산합니다. 그리고 부가세를 출력하고, 마지막으로 f-string을 사용하여 상품의 가격과 부가세를 포맷하여 출력합니다."
      ],
      "metadata": {
        "id": "ZcNPJcwenJ4N"
      }
    }
  ]
}