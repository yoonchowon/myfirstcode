{
  "nbformat": 4,
  "nbformat_minor": 0,
  "metadata": {
    "colab": {
      "provenance": [],
      "authorship_tag": "ABX9TyMemQxA7tx0SjoA9d0EA8aZ",
      "include_colab_link": true
    },
    "kernelspec": {
      "name": "python3",
      "display_name": "Python 3"
    },
    "language_info": {
      "name": "python"
    }
  },
  "cells": [
    {
      "cell_type": "markdown",
      "metadata": {
        "id": "view-in-github",
        "colab_type": "text"
      },
      "source": [
        "<a href=\"https://colab.research.google.com/github/yoonchowon/myfirstcode/blob/main/CTBC_9.ipynb\" target=\"_parent\"><img src=\"https://colab.research.google.com/assets/colab-badge.svg\" alt=\"Open In Colab\"/></a>"
      ]
    },
    {
      "cell_type": "markdown",
      "source": [
        "1. 두가지 이상의 선택, 다방향 선택구조 코딩\n",
        " - 배송료 처리 3가지로 코딩\n",
        " - 변수 : price\n",
        " - 조건 : 10만원 이상은 배송비 0.2만원 이상은 3천원,2만원 이하는 5천원"
      ],
      "metadata": {
        "id": "8bs1SGm3rvFk"
      }
    },
    {
      "cell_type": "code",
      "source": [
        "price = int(input(\"구입금액 입력:\"))           # 변수 price 사용자가 정수형 금액입력\n",
        "if price >= 100000:                            # price의 값이 10만원보다 크거나 같으면\n",
        "  shipplng_cost = 0                            # 선택1. 배송료(shipping_cost)는 0원\n",
        "else:                                          # 그게 아니면\n",
        "  if price >=20000:                            # 선택2.price값이 2만원보다 크거나 같으면\n",
        "    shipping_cost = 3000                       # 배송료(shipping_cost)는 3000원\n",
        "  else:                                        # 그것도 아니면\n",
        "     shipping_cost = 5000                      # 선택3. 배송료(shipping_cost)는 5천원\n",
        "print(f'배송료는 {shipping_cost}원 입니다.')   # F-String문자 Format으로 최종 배송료 출력\n",
        "\n"
      ],
      "metadata": {
        "colab": {
          "base_uri": "https://localhost:8080/"
        },
        "id": "ghGrK8YQswJF",
        "outputId": "a033d20b-8043-4356-ebf4-9f201f4e5b70"
      },
      "execution_count": null,
      "outputs": [
        {
          "output_type": "stream",
          "name": "stdout",
          "text": [
            "구입금액 입력:20000\n",
            "배송료는 3000원 입니다.\n"
          ]
        }
      ]
    },
    {
      "cell_type": "markdown",
      "source": [
        "\n",
        "1. \"구입금액 입력:\"이라는 메시지를 출력하고 사용자로부터 구입금액을 입력받습니다.\n",
        "2. 입력받은 구입금액을 정수형으로 변환하여 price 변수에 저장합니다.\n",
        "3. 조건문을 사용하여 배송비(shipping_cost)를 계산합니다.\n",
        "- 만약 price가 100000 이상이라면, 배송비는 0원입니다. (shipping_cost = 0)\n",
        "- 그렇지 않고 price가 100000 미만이고 20000 이상이라면, 배송비는 3000원입니다. (shipping_cost = 3000)\n",
        "- 그렇지 않으면 (즉, price가 20000 미만인 경우), 배송비는 5000원입니다. (shipping_cost = 5000)\n",
        "4. shipping_cost의 값을 출력하여 배송료를 알려줍니다. (f'배송료는 {shipping_cost}원 입니다.')"
      ],
      "metadata": {
        "id": "2hZsIMN5hm-t"
      }
    },
    {
      "cell_type": "markdown",
      "source": [
        "3.0부터 9까지 출력하는 코드 작성\n",
        " - 변수 : x"
      ],
      "metadata": {
        "id": "So__Uu_n1icp"
      }
    },
    {
      "cell_type": "code",
      "source": [
        "x = 0                   # 변수 x를 0으로 초기화합니다.\n",
        "while x < 10:           # x가 10보다 작은 동안 반복합니다.\n",
        "  #print(x)# print(x)   # x의 값을 출력합니다. (주석 처리된 부분)\n",
        "  print(x, end='')      # x의 값을 출력하고 줄바꿈을 하지 않고 출력합니다.\n",
        "  x = x + 1             # x의 값을 1씩 증가시킵니다."
      ],
      "metadata": {
        "colab": {
          "base_uri": "https://localhost:8080/"
        },
        "id": "orguvLVr11pT",
        "outputId": "733c735d-60f7-4d93-f716-7e498baf1ef0"
      },
      "execution_count": null,
      "outputs": [
        {
          "output_type": "stream",
          "name": "stdout",
          "text": [
            "0123456789"
          ]
        }
      ]
    },
    {
      "cell_type": "markdown",
      "source": [
        "위의 주석을 참고하시면 됩니다. 주석 처리된 부분은 print(x)로 x의 값을 출력하는 부분인데, 주석 처리되어 있어서 실제로는 실행되지 않습니다. print(x, end='')는 x의 값을 출력하고 줄바꿈을 하지 않고 출력하는 방식입니다. 그리고 x = x + 1은 x의 값을 1씩 증가시키는 부분입니다.\n",
        "\n",
        "따라서 위의 코드는 0부터 9까지의 숫자를 한 줄에 출력하는 역할을 합니다. 출력 결과는 0123456789가 됩니다. 추가 설명이 필요하거나 다른 질문이 있으시면 언제든지 말씀해주세요!"
      ],
      "metadata": {
        "id": "HPK02Sbfiaxn"
      }
    },
    {
      "cell_type": "markdown",
      "source": [
        "4. 1부터 10까지 합산하는 코드 작성"
      ],
      "metadata": {
        "id": "LjefsJR93FOL"
      }
    },
    {
      "cell_type": "code",
      "source": [
        "x = 1                  # 변수 x를 1로 초기화합니다.\n",
        "total = 0              # 변수 total을 0으로 초기화합니다.\n",
        "while x <= 10:         # x가 10 이하인 동안 반복합니다.\n",
        "  total+= x            # total에 x 값을 더합니다. (total = total + x)\n",
        "  #total = total + 1   # total에 1을 더합니다. (주석 처리된 부분)\n",
        "  #x = x + 1           # x에 1을 더합니다. (주석 처리된 부분)\n",
        "  x += 1               # x에 1을 더합니다.\n",
        "print(total)           # total의 최종 값을 출력합니다."
      ],
      "metadata": {
        "colab": {
          "base_uri": "https://localhost:8080/"
        },
        "id": "oy7zAhW73NbB",
        "outputId": "c9f2b242-6d55-4e4d-c638-1107c1328890"
      },
      "execution_count": null,
      "outputs": [
        {
          "output_type": "stream",
          "name": "stdout",
          "text": [
            "55\n"
          ]
        }
      ]
    },
    {
      "cell_type": "markdown",
      "source": [
        "위의 주석을 참고하시면 됩니다. 주석 처리된 부분은 total = total + 1과 x = x + 1로, 각각 total과 x를 1씩 증가시키는 부분입니다. 주석 처리되어 있어서 실제로는 실행되지 않습니다. total += x는 total에 x 값을 더하는 부분입니다. x += 1은 x에 1을 더하는 부분입니다.\n",
        "\n",
        "따라서 위의 코드는 1부터 10까지의 숫자를 더한 결과를 출력합니다. 출력 결과는 55가 됩니다."
      ],
      "metadata": {
        "id": "HfA3JSfmjYOb"
      }
    },
    {
      "cell_type": "markdown",
      "source": [
        "5. 3-6-9 게임 (3의 배수 판단): 3의 배수를 3으로 나누면 나머지가 0이 되므로 (i mod 3)의 값이 0이면, 박수를 출력,아니면 숫자 출력하는 코드\n"
      ],
      "metadata": {
        "id": "yhEo3S8d4MN0"
      }
    },
    {
      "cell_type": "code",
      "source": [
        "for num in range(1, 11):   # 1부터 10까지의 숫자에 대해 반복합니다.\n",
        "  if num % 3== 0:          # 현재 숫자가 3으로 나누어 떨어지는지 확인합니다.\n",
        "    print(\"박수\",end='')   # 3의 배수인 경우 \"박수\"를 출력하고 줄바꿈을 하지 않고 출력합니다.\n",
        "  else:\n",
        "      print(num, end='')   # 3의 배수가 아닌 경우 숫자를 출력하고 줄바꿈을 하지 않고 출력합니다."
      ],
      "metadata": {
        "colab": {
          "base_uri": "https://localhost:8080/"
        },
        "id": "aa-ucBXQ432r",
        "outputId": "ba541513-e862-4187-d59b-241505f27e0c"
      },
      "execution_count": null,
      "outputs": [
        {
          "output_type": "stream",
          "name": "stdout",
          "text": [
            "12박수45박수78박수10"
          ]
        }
      ]
    },
    {
      "cell_type": "markdown",
      "source": [
        "위의 주석을 참고하시면 됩니다. 주어진 코드는 1부터 10까지의 숫자에 대해 반복하면서 각 숫자가 3의 배수인지 확인하고, 3의 배수인 경우 \"박수\"를 출력하고 나머지 숫자는 그대로 출력하는 역할을 합니다. 출력 결과는 \"1박수2박수4박수5박수7박수8박수10\"입니다."
      ],
      "metadata": {
        "id": "QrhTrCiVkDSW"
      }
    },
    {
      "cell_type": "code",
      "source": [
        "num = 1                      # 변수 num을 1로 초기화합니다.\n",
        "while num <= 20:             # num이 20 이하인 동안 반복합니다.\n",
        "  if num % 3 == 0:           # 현재 num이 3의 배수인지 확인합니다.\n",
        "    print(\"박수\", end='')    # 3의 배수인 경우 \"박수\"를 출력하고 줄바꿈을 하지 않고 출력합니다.\n",
        "  else:\n",
        "      print(num, end='')     # 3의 배수가 아닌 경우 숫자를 출력하고 줄바꿈을 하지 않고 출력합니다.\n",
        "  num += 1                   # num을 1씩 증가시킵니다."
      ],
      "metadata": {
        "colab": {
          "base_uri": "https://localhost:8080/"
        },
        "id": "qSdVh3DT5dEz",
        "outputId": "ba7f97c7-7697-486c-f888-62bbf20697d2"
      },
      "execution_count": null,
      "outputs": [
        {
          "output_type": "stream",
          "name": "stdout",
          "text": [
            "12박수45박수78박수1011박수1314박수1617박수1920"
          ]
        }
      ]
    },
    {
      "cell_type": "markdown",
      "source": [
        "위의 주석을 참고하시면 됩니다. 주어진 코드는 1부터 20까지의 숫자에 대해 반복하면서 각 숫자가 3의 배수인지 확인하고, 3의 배수인 경우 \"박수\"를 출력하고 나머지 숫자는 그대로 출력하는 역할을 합니다. 출력 결과는 \"12박수45박수78박수101112박수1415박수171819박수\"입니다."
      ],
      "metadata": {
        "id": "8HC5wbSdkvGV"
      }
    },
    {
      "cell_type": "code",
      "source": [
        "print(\"환영합니다.\") # \"환영합니다.\"를 출력합니다.\n",
        "print(\"환영합니다.\") # \"환영합니다.\"를 출력합니다.\n",
        "print(\"환영합니다.\") # \"환영합니다.\"를 출력합니다.\n",
        "print(\"환영합니다.\") # \"환영합니다.\"를 출력합니다.\n",
        "print(\"환영합니다.\") # \"환영합니다.\"를 출력합니다."
      ],
      "metadata": {
        "colab": {
          "base_uri": "https://localhost:8080/"
        },
        "id": "z1096aRZy9Ru",
        "outputId": "4be20ad4-a982-468e-bed2-85d71dc9cc5d"
      },
      "execution_count": null,
      "outputs": [
        {
          "output_type": "stream",
          "name": "stdout",
          "text": [
            "환영합니다.\n",
            "환영합니다.\n",
            "환영합니다.\n",
            "환영합니다.\n",
            "환영합니다.\n"
          ]
        }
      ]
    },
    {
      "cell_type": "markdown",
      "source": [
        "주어진 코드는 print(\"환영합니다.\")를 5번 반복하여 \"환영합니다.\"를 출력하는 역할을 합니다. 따라서 위의 코드는 \"환영합니다.\"를 5번 출력합니다."
      ],
      "metadata": {
        "id": "zus-lm8klAEB"
      }
    },
    {
      "cell_type": "code",
      "source": [
        " print(\"환영합니다.\\n\" * 5) # \"환영합니다.\"라는 문장을 5번 반복하여 출력하는 코드입니다"
      ],
      "metadata": {
        "colab": {
          "base_uri": "https://localhost:8080/"
        },
        "id": "TiAprXoyzafv",
        "outputId": "52b86955-a626-4328-a21e-d51814cf1a18"
      },
      "execution_count": null,
      "outputs": [
        {
          "output_type": "stream",
          "name": "stdout",
          "text": [
            "환영합니다.\n",
            "환영합니다.\n",
            "환영합니다.\n",
            "환영합니다.\n",
            "환영합니다.\n",
            "\n"
          ]
        }
      ]
    },
    {
      "cell_type": "markdown",
      "source": [
        "주어진 코드는 \"환영합니다.\\n\"을 5번 반복하여 출력합니다. \\n은 줄바꿈을 나타내는 이스케이프 문자입니다. 따라서 위의 코드는 \"환영합니다.\"를 5번 출력하고 각 문장 사이에 줄바꿈을 추가하여 출력합니다."
      ],
      "metadata": {
        "id": "iWDidT1VlUe1"
      }
    },
    {
      "cell_type": "code",
      "source": [
        "count = 0                                   # 변수 count를 0으로 초기화합니다.\n",
        "while count <=5:                            # count가 5 이하인 동안 반복합니다.\n",
        "  print(\"(\",count, \")\", \"환영합니다.\")      # count 값을 출력하고 \"환영합니다.\"를 출력합니다.\n",
        "  count = count + 1                         # count를 1씩 증가시킵니다."
      ],
      "metadata": {
        "colab": {
          "base_uri": "https://localhost:8080/"
        },
        "id": "P7PSdbnUzwsY",
        "outputId": "2e347b23-edf5-4c95-8295-7374c48ee91f"
      },
      "execution_count": null,
      "outputs": [
        {
          "output_type": "stream",
          "name": "stdout",
          "text": [
            "( 0 ) 환영합니다.\n",
            "( 1 ) 환영합니다.\n",
            "( 2 ) 환영합니다.\n",
            "( 3 ) 환영합니다.\n",
            "( 4 ) 환영합니다.\n",
            "( 5 ) 환영합니다.\n"
          ]
        }
      ]
    },
    {
      "cell_type": "markdown",
      "source": [
        "위의 주석을 참고하시면 됩니다. 주어진 코드는 count 값을 출력하고 \"환영합니다.\"를 출력하는 역할을 합니다. count는 0부터 시작하여 1씩 증가하며, 반복문은 count가 5 이하일 때까지 실행됩니다. 따라서 위의 코드는 \"(0) 환영합니다.\", \"(1) 환영합니다.\", ..., \"(5) 환영합니다.\"를 출력합니다."
      ],
      "metadata": {
        "id": "kK79oS1Sl0dW"
      }
    }
  ]
}